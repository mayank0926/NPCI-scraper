{
 "cells": [
  {
   "cell_type": "code",
   "execution_count": 81,
   "metadata": {},
   "outputs": [],
   "source": [
    "import requests\n",
    "from bs4 import BeautifulSoup\n",
    "import pandas as pd\n",
    "\n",
    "URL = \"https://www.npci.org.in/what-we-do/upi/upi-ecosystem-statistics\"\n",
    "page = requests.get(URL)\n",
    "\n",
    "soup = BeautifulSoup(page.content, 'html.parser')"
   ]
  },
  {
   "cell_type": "code",
   "execution_count": null,
   "metadata": {},
   "outputs": [],
   "source": [
    "def get_soup(URL):\n",
    "    page = requests.get(URL)\n",
    "    soup = BeautifulSoup(page.content, 'html.parser')\n",
    "    return soup"
   ]
  },
  {
   "cell_type": "code",
   "execution_count": 82,
   "metadata": {},
   "outputs": [],
   "source": [
    "table_headings = [' Sr. No. ', ' UPI Remitter Banks  ', ' Total Volume(In Mn) ', ' Approved % ', ' BD % ', ' TD% ', ' Debit Reversal Success % '][:6]\n",
    "def table_to_df(table):\n",
    "    table_name = table['id'][4:]\n",
    "    table_name = table_name[-4:] + table_name[:-4]\n",
    "    all_rows = table.find_all('tr')\n",
    "    processed_data = []\n",
    "    \n",
    "    # Only using top 30 banks\n",
    "    if all_rows[1].find_all('td'): all_rows = all_rows[1:31]\n",
    "    else: all_rows = all_rows[2:32]\n",
    "\n",
    "    for row in all_rows:\n",
    "        data = [x.text for x in row.find_all('td')]\n",
    "        data = [y.replace(',', '') for y in [x.replace('%', '') for x in data]]\n",
    "        processed_data.append(data[:6])\n",
    "    df = pd.DataFrame(processed_data, columns = table_headings)\n",
    "    return table_name, df\n",
    "        "
   ]
  },
  {
   "cell_type": "code",
   "execution_count": 83,
   "metadata": {},
   "outputs": [],
   "source": [
    "all_tables = soup.find_all('div', class_='hideDD')\n",
    "yearwise_tables = {}\n",
    "for table in all_tables[1:]:\n",
    "    name, df = table_to_df(table)\n",
    "    # df.to_csv(f'Data/{name}.csv', index=False)\n",
    "    yearwise_tables[name] = df\n"
   ]
  },
  {
   "cell_type": "code",
   "execution_count": null,
   "metadata": {},
   "outputs": [],
   "source": []
  }
 ],
 "metadata": {
  "interpreter": {
   "hash": "cbf86736030356ea54aa8e6a9fdc117d1b045cac1ee6b4f042afe9f82ca89fa2"
  },
  "kernelspec": {
   "display_name": "Python 3.8.12 ('aiml')",
   "language": "python",
   "name": "python3"
  },
  "language_info": {
   "codemirror_mode": {
    "name": "ipython",
    "version": 3
   },
   "file_extension": ".py",
   "mimetype": "text/x-python",
   "name": "python",
   "nbconvert_exporter": "python",
   "pygments_lexer": "ipython3",
   "version": "3.8.12"
  },
  "orig_nbformat": 4
 },
 "nbformat": 4,
 "nbformat_minor": 2
}
